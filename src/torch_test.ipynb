{
 "metadata": {
  "language_info": {
   "codemirror_mode": {
    "name": "ipython",
    "version": 3
   },
   "file_extension": ".py",
   "mimetype": "text/x-python",
   "name": "python",
   "nbconvert_exporter": "python",
   "pygments_lexer": "ipython3",
   "version": 3
  },
  "orig_nbformat": 2,
  "kernelspec": {
   "name": "python_defaultSpec_1596180542572",
   "display_name": "Python 3.7.7 64-bit ('gswm': conda)"
  }
 },
 "nbformat": 4,
 "nbformat_minor": 2,
 "cells": [
  {
   "cell_type": "code",
   "execution_count": 1,
   "metadata": {},
   "outputs": [],
   "source": [
    "import torch"
   ]
  },
  {
   "cell_type": "code",
   "execution_count": 14,
   "metadata": {},
   "outputs": [],
   "source": [
    "a = [1 for _ in range(10)]\n",
    "b = [2 for _ in range(10)]\n",
    "c = [3 for _ in range(10)]\n",
    "d = [4 for _ in range(10)]\n",
    "e = [5 for _ in range(10)]\n",
    "f = [6 for _ in range(10)]\n",
    "l = [a,b,c,d,e,f]\n",
    "t = torch.tensor(l)"
   ]
  },
  {
   "cell_type": "code",
   "execution_count": 15,
   "metadata": {},
   "outputs": [
    {
     "output_type": "execute_result",
     "data": {
      "text/plain": "torch.Size([6, 10])"
     },
     "metadata": {},
     "execution_count": 15
    }
   ],
   "source": [
    "t.shape"
   ]
  },
  {
   "cell_type": "code",
   "execution_count": 16,
   "metadata": {},
   "outputs": [],
   "source": [
    "t1 = t[None]"
   ]
  },
  {
   "cell_type": "code",
   "execution_count": 17,
   "metadata": {},
   "outputs": [],
   "source": [
    "t2 = t[:,None]"
   ]
  },
  {
   "cell_type": "code",
   "execution_count": 18,
   "metadata": {},
   "outputs": [
    {
     "output_type": "execute_result",
     "data": {
      "text/plain": "(torch.Size([1, 6, 10]), torch.Size([6, 1, 10]))"
     },
     "metadata": {},
     "execution_count": 18
    }
   ],
   "source": [
    "t1.shape, t2.shape"
   ]
  },
  {
   "cell_type": "code",
   "execution_count": 19,
   "metadata": {},
   "outputs": [],
   "source": [
    "N = len(l)\n",
    "D = 10\n",
    "t1e = t1.expand(N, N, D) # others \n",
    "t2e = t2.expand(N, N, D) # self"
   ]
  },
  {
   "cell_type": "code",
   "execution_count": 20,
   "metadata": {},
   "outputs": [
    {
     "output_type": "execute_result",
     "data": {
      "text/plain": "tensor([[[1, 1, 1, 1, 1, 1, 1, 1, 1, 1],\n         [2, 2, 2, 2, 2, 2, 2, 2, 2, 2],\n         [3, 3, 3, 3, 3, 3, 3, 3, 3, 3],\n         [4, 4, 4, 4, 4, 4, 4, 4, 4, 4],\n         [5, 5, 5, 5, 5, 5, 5, 5, 5, 5],\n         [6, 6, 6, 6, 6, 6, 6, 6, 6, 6]],\n\n        [[1, 1, 1, 1, 1, 1, 1, 1, 1, 1],\n         [2, 2, 2, 2, 2, 2, 2, 2, 2, 2],\n         [3, 3, 3, 3, 3, 3, 3, 3, 3, 3],\n         [4, 4, 4, 4, 4, 4, 4, 4, 4, 4],\n         [5, 5, 5, 5, 5, 5, 5, 5, 5, 5],\n         [6, 6, 6, 6, 6, 6, 6, 6, 6, 6]],\n\n        [[1, 1, 1, 1, 1, 1, 1, 1, 1, 1],\n         [2, 2, 2, 2, 2, 2, 2, 2, 2, 2],\n         [3, 3, 3, 3, 3, 3, 3, 3, 3, 3],\n         [4, 4, 4, 4, 4, 4, 4, 4, 4, 4],\n         [5, 5, 5, 5, 5, 5, 5, 5, 5, 5],\n         [6, 6, 6, 6, 6, 6, 6, 6, 6, 6]],\n\n        [[1, 1, 1, 1, 1, 1, 1, 1, 1, 1],\n         [2, 2, 2, 2, 2, 2, 2, 2, 2, 2],\n         [3, 3, 3, 3, 3, 3, 3, 3, 3, 3],\n         [4, 4, 4, 4, 4, 4, 4, 4, 4, 4],\n         [5, 5, 5, 5, 5, 5, 5, 5, 5, 5],\n         [6, 6, 6, 6, 6, 6, 6, 6, 6, 6]],\n\n        [[1, 1, 1, 1, 1, 1, 1, 1, 1, 1],\n         [2, 2, 2, 2, 2, 2, 2, 2, 2, 2],\n         [3, 3, 3, 3, 3, 3, 3, 3, 3, 3],\n         [4, 4, 4, 4, 4, 4, 4, 4, 4, 4],\n         [5, 5, 5, 5, 5, 5, 5, 5, 5, 5],\n         [6, 6, 6, 6, 6, 6, 6, 6, 6, 6]],\n\n        [[1, 1, 1, 1, 1, 1, 1, 1, 1, 1],\n         [2, 2, 2, 2, 2, 2, 2, 2, 2, 2],\n         [3, 3, 3, 3, 3, 3, 3, 3, 3, 3],\n         [4, 4, 4, 4, 4, 4, 4, 4, 4, 4],\n         [5, 5, 5, 5, 5, 5, 5, 5, 5, 5],\n         [6, 6, 6, 6, 6, 6, 6, 6, 6, 6]]])"
     },
     "metadata": {},
     "execution_count": 20
    }
   ],
   "source": [
    "t1e # Check the differnece btwn feat_self and feat_other"
   ]
  },
  {
   "cell_type": "code",
   "execution_count": 21,
   "metadata": {},
   "outputs": [
    {
     "output_type": "execute_result",
     "data": {
      "text/plain": "tensor([[[1, 1, 1, 1, 1, 1, 1, 1, 1, 1],\n         [1, 1, 1, 1, 1, 1, 1, 1, 1, 1],\n         [1, 1, 1, 1, 1, 1, 1, 1, 1, 1],\n         [1, 1, 1, 1, 1, 1, 1, 1, 1, 1],\n         [1, 1, 1, 1, 1, 1, 1, 1, 1, 1],\n         [1, 1, 1, 1, 1, 1, 1, 1, 1, 1]],\n\n        [[2, 2, 2, 2, 2, 2, 2, 2, 2, 2],\n         [2, 2, 2, 2, 2, 2, 2, 2, 2, 2],\n         [2, 2, 2, 2, 2, 2, 2, 2, 2, 2],\n         [2, 2, 2, 2, 2, 2, 2, 2, 2, 2],\n         [2, 2, 2, 2, 2, 2, 2, 2, 2, 2],\n         [2, 2, 2, 2, 2, 2, 2, 2, 2, 2]],\n\n        [[3, 3, 3, 3, 3, 3, 3, 3, 3, 3],\n         [3, 3, 3, 3, 3, 3, 3, 3, 3, 3],\n         [3, 3, 3, 3, 3, 3, 3, 3, 3, 3],\n         [3, 3, 3, 3, 3, 3, 3, 3, 3, 3],\n         [3, 3, 3, 3, 3, 3, 3, 3, 3, 3],\n         [3, 3, 3, 3, 3, 3, 3, 3, 3, 3]],\n\n        [[4, 4, 4, 4, 4, 4, 4, 4, 4, 4],\n         [4, 4, 4, 4, 4, 4, 4, 4, 4, 4],\n         [4, 4, 4, 4, 4, 4, 4, 4, 4, 4],\n         [4, 4, 4, 4, 4, 4, 4, 4, 4, 4],\n         [4, 4, 4, 4, 4, 4, 4, 4, 4, 4],\n         [4, 4, 4, 4, 4, 4, 4, 4, 4, 4]],\n\n        [[5, 5, 5, 5, 5, 5, 5, 5, 5, 5],\n         [5, 5, 5, 5, 5, 5, 5, 5, 5, 5],\n         [5, 5, 5, 5, 5, 5, 5, 5, 5, 5],\n         [5, 5, 5, 5, 5, 5, 5, 5, 5, 5],\n         [5, 5, 5, 5, 5, 5, 5, 5, 5, 5],\n         [5, 5, 5, 5, 5, 5, 5, 5, 5, 5]],\n\n        [[6, 6, 6, 6, 6, 6, 6, 6, 6, 6],\n         [6, 6, 6, 6, 6, 6, 6, 6, 6, 6],\n         [6, 6, 6, 6, 6, 6, 6, 6, 6, 6],\n         [6, 6, 6, 6, 6, 6, 6, 6, 6, 6],\n         [6, 6, 6, 6, 6, 6, 6, 6, 6, 6],\n         [6, 6, 6, 6, 6, 6, 6, 6, 6, 6]]])"
     },
     "metadata": {},
     "execution_count": 21
    }
   ],
   "source": [
    "t2e"
   ]
  },
  {
   "cell_type": "code",
   "execution_count": null,
   "metadata": {},
   "outputs": [],
   "source": []
  }
 ]
}